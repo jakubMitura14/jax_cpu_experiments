{
 "cells": [
  {
   "cell_type": "code",
   "execution_count": 17,
   "metadata": {},
   "outputs": [],
   "source": [
    "import numpyro\n",
    "import numpyro.distributions as dist\n",
    "import jax.random as random\n",
    "import einops\n",
    "import jax\n",
    "import jax.numpy as jnp\n",
    "\n",
    "\n",
    "def get_example_image(image_shape, sv_r, indexes_of_high, mean_0,var_0,mean_1,var_1,rng_key):\n",
    "    \"\"\"\n",
    "    we will create a simulation of the image with supervoxel segmentation each super voxel \n",
    "    at first extremely simplified case with square supervoxels each filled with predefined gausiians output\n",
    "    we will generate couple of such and try to make a graph model that would recognize the diffrences\n",
    "    indexes_of_high - will be a set of tuples indicating w and  h coordinates\n",
    "    \"\"\" \n",
    "    #1)create empy image\n",
    "    image= jnp.zeros(image_shape)\n",
    "    #2) reshape to get as las two dims sv size\n",
    "    image= einops.rearrange(image, '(w sw) (h sh) ->w h sw sh', sw=sv_r,sh=sv_r )\n",
    "    image=numpyro.sample('mu', dist.Normal(mean_0,var_0), sample_shape=image.shape,rng_key=rng_key)\n",
    "    #populate the sv areas with goussian noise of mean and var 1 if index is in indexes_of_high and mean and var 0 otherwise\n",
    "    rng_key_new, old= random.split(rng_key)\n",
    "    for coord in indexes_of_high:\n",
    "        rng_key_new, old= random.split(rng_key_new)\n",
    "        x,y=coord\n",
    "        image.at[x,y,:,:].set(numpyro.sample('mu_1', dist.Normal(mean_1,var_1), sample_shape=(sv_r,sv_r),rng_key=rng_key_new))\n",
    "\n",
    "    #reshape back to original image shape\n",
    "    image= einops.rearrange(image, 'w h sw sh -> (w sw) (h sh) ', sw=sv_r,sh=sv_r )\n",
    "    return image\n",
    "\n",
    "rng_key = random.PRNGKey(3)\n",
    "rng_key_new,old = random.split(rng_key)\n",
    "\n",
    "mean_0 =1\n",
    "var_0=1\n",
    "mean_1=2\n",
    "var_1=0.5\n",
    "image_shape=(64,64)\n",
    "sv_r=8\n",
    "indexes_of_high=[(0,0), (1,1), (2,2)]\n",
    "get_example_image(image_shape, sv_r, indexes_of_high, mean_0,var_0,mean_1,var_1,old)\n",
    "v_get_example_image=jax.vmap(get_example_image,in_axes=(None,None,None,None,None,None,None,0))\n",
    "\n",
    "#                             ,in_axes=(0, 0,0)"
   ]
  },
  {
   "cell_type": "code",
   "execution_count": 19,
   "metadata": {},
   "outputs": [
    {
     "data": {
      "text/plain": [
       "(150, 64, 64)"
      ]
     },
     "execution_count": 19,
     "metadata": {},
     "output_type": "execute_result"
    }
   ],
   "source": [
    "def build_example_dataset():\n",
    "    \"\"\" \n",
    "    using get_example_image  we will create multiple instances of diffrent images - we will save images\n",
    "    task here will be graph level predictions \n",
    "    \"\"\"\n",
    "    num_per_class=50\n",
    "    mean_0 =1\n",
    "    var_0=1\n",
    "    mean_1=2\n",
    "    var_1=0.5\n",
    "    image_shape=(64,64)\n",
    "    sv_r=8\n",
    "    a=v_get_example_image(image_shape, sv_r, [(0,0), (1,1), (2,2), (3,3)], mean_0,var_0,mean_1,var_1,random.split(rng_key_new,num_per_class  ))\n",
    "    b=v_get_example_image(image_shape, sv_r, [(0,0), (0,1), (0,2), (0,3)], mean_0,var_0,mean_1,var_1,random.split(rng_key_new,num_per_class  ))\n",
    "    c=v_get_example_image(image_shape, sv_r, [(0,0), (1,1), (0,1), (1,1)], mean_0,var_0,mean_1,var_1,random.split(rng_key_new,num_per_class  ))\n",
    "    images=jnp.concatenate([a,b,c],axis=0)\n",
    "    labels_a= jnp.ones(num_per_class)\n",
    "    labels_b= jnp.ones(num_per_class)*2\n",
    "    labels_c= jnp.ones(num_per_class)*3\n",
    "    labels= jnp.concatenate([labels_a,labels_b, labels_c])\n",
    "    return images,labels\n",
    "\n",
    "dummy_datase=build_example_dataset()\n",
    "dummy_datase[0].shape"
   ]
  },
  {
   "cell_type": "code",
   "execution_count": null,
   "metadata": {},
   "outputs": [],
   "source": [
    "import jraph\n",
    "import jax.numpy as jnp\n",
    "\n",
    "# Define a three node graph, each node has an integer as its feature.\n",
    "node_features = jnp.array([[0.], [1.], [2.]])\n",
    "\n",
    "# We will construct a graph for which there is a directed edge between each node\n",
    "# and its successor. We define this with `senders` (source nodes) and `receivers`\n",
    "# (destination nodes).\n",
    "senders = jnp.array([0, 1, 2])\n",
    "receivers = jnp.array([1, 2, 0])\n",
    "\n",
    "# You can optionally add edge attributes.\n",
    "edges = jnp.array([[5.], [6.], [7.]])\n",
    "\n",
    "# We then save the number of nodes and the number of edges.\n",
    "# This information is used to make running GNNs over multiple graphs\n",
    "# in a GraphsTuple possible.\n",
    "n_node = jnp.array([3])\n",
    "n_edge = jnp.array([3])\n",
    "\n",
    "# Optionally you can add `global` information, such as a graph label.\n",
    "\n",
    "global_context = jnp.array([[1]])\n",
    "graph = jraph.GraphsTuple(nodes=node_features, senders=senders, receivers=receivers,\n",
    "edges=edges, n_node=n_node, n_edge=n_edge, globals=global_context)"
   ]
  }
 ],
 "metadata": {
  "kernelspec": {
   "display_name": "base",
   "language": "python",
   "name": "python3"
  },
  "language_info": {
   "codemirror_mode": {
    "name": "ipython",
    "version": 3
   },
   "file_extension": ".py",
   "mimetype": "text/x-python",
   "name": "python",
   "nbconvert_exporter": "python",
   "pygments_lexer": "ipython3",
   "version": "3.10.10"
  },
  "orig_nbformat": 4
 },
 "nbformat": 4,
 "nbformat_minor": 2
}
