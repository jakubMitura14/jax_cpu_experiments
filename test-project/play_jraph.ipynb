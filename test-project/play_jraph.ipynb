{
 "cells": [
  {
   "cell_type": "code",
   "execution_count": 1,
   "metadata": {},
   "outputs": [
    {
     "name": "stderr",
     "output_type": "stream",
     "text": [
      "No GPU/TPU found, falling back to CPU. (Set TF_CPP_MIN_LOG_LEVEL=0 and rerun for more info.)\n"
     ]
    }
   ],
   "source": [
    "import jraph\n",
    "import jax.numpy as jnp\n",
    "\n",
    "# Define a three node graph, each node has an integer as its feature.\n",
    "node_features = jnp.array([[0.], [1.], [2.]])\n",
    "\n",
    "# We will construct a graph for which there is a directed edge between each node\n",
    "# and its successor. We define this with `senders` (source nodes) and `receivers`\n",
    "# (destination nodes).\n",
    "senders = jnp.array([0, 1, 2])\n",
    "receivers = jnp.array([1, 2, 0])\n",
    "\n",
    "# You can optionally add edge attributes.\n",
    "edges = jnp.array([[5.], [6.], [7.]])\n",
    "\n",
    "# We then save the number of nodes and the number of edges.\n",
    "# This information is used to make running GNNs over multiple graphs\n",
    "# in a GraphsTuple possible.\n",
    "n_node = jnp.array([3])\n",
    "n_edge = jnp.array([3])\n",
    "\n",
    "# Optionally you can add `global` information, such as a graph label.\n",
    "\n",
    "global_context = jnp.array([[1]])\n",
    "graph = jraph.GraphsTuple(nodes=node_features, senders=senders, receivers=receivers,\n",
    "edges=edges, n_node=n_node, n_edge=n_edge, globals=global_context)"
   ]
  },
  {
   "cell_type": "code",
   "execution_count": null,
   "metadata": {},
   "outputs": [
    {
     "data": {
      "text/plain": [
       "Array([[5.],\n",
       "       [6.],\n",
       "       [7.]], dtype=float32)"
      ]
     },
     "execution_count": 2,
     "metadata": {},
     "output_type": "execute_result"
    }
   ],
   "source": [
    "import numpyro\n",
    "import numpyro.distributions as dist\n",
    "import jax.random as random\n",
    "mu_0=0\n",
    "mu_1=200\n",
    "var_0=5\n",
    "var_1=900\n",
    "\n",
    "\n",
    "rng_key = random.PRNGKey(3)\n",
    "image= numpyro.sample('mu', dist.Normal(mu_0,var_0), sample_shape=(32,32),rng_key=rng_key)\n",
    "\n",
    "\n",
    "def get_example_image(shape, num_areas):\n",
    "    \"\"\"\n",
    "    we will create a simulation of the image with supervoxel segmentation each super voxel will be of max size as can be \n",
    "    present in the original supervoxel segmentation - each supervoxel will be represented by a gaussian from numpyro \n",
    "\n",
    "    \"\"\" \n",
    "\n"
   ]
  },
  {
   "cell_type": "code",
   "execution_count": null,
   "metadata": {},
   "outputs": [],
   "source": []
  }
 ],
 "metadata": {
  "kernelspec": {
   "display_name": "base",
   "language": "python",
   "name": "python3"
  },
  "language_info": {
   "codemirror_mode": {
    "name": "ipython",
    "version": 3
   },
   "file_extension": ".py",
   "mimetype": "text/x-python",
   "name": "python",
   "nbconvert_exporter": "python",
   "pygments_lexer": "ipython3",
   "version": "3.10.10"
  },
  "orig_nbformat": 4
 },
 "nbformat": 4,
 "nbformat_minor": 2
}
